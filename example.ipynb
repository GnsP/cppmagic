{
 "metadata": {
  "name": "Untitled2"
 },
 "nbformat": 3,
 "nbformat_minor": 0,
 "worksheets": [
  {
   "cells": [
    {
     "cell_type": "code",
     "collapsed": false,
     "input": "%load_ext cppmagic",
     "language": "python",
     "metadata": {},
     "outputs": [],
     "prompt_number": 1
    },
    {
     "cell_type": "code",
     "collapsed": false,
     "input": "%%cpp\n#include <iostream>\nusing namespace std;\n\nclass MyClass {\npublic:\n    int a;\n    MyClass() {\n        a = 10;\n    }\n};\n\nint main() {\n    MyClass B;\n    cout << B.a << endl;\n    return 0;\n}",
     "language": "python",
     "metadata": {},
     "outputs": [
      {
       "output_type": "stream",
       "stream": "stdout",
       "text": "10\n\n"
      }
     ],
     "prompt_number": 2
    },
    {
     "cell_type": "code",
     "collapsed": false,
     "input": "%%cpp -llapack -lblas -larmadillo\n#include <iostream>\n#include <armadillo>\nusing namespace std;\nusing namespace arma;\n\nint main() {\n    mat A = randu<mat>(5,5);\n    cout << A << endl;\n    double determinant = det(A);\n    cout << determinant << endl;\n    return 9;\n}",
     "language": "python",
     "metadata": {},
     "outputs": [
      {
       "output_type": "stream",
       "stream": "stdout",
       "text": "   0.8402   0.1976   0.4774   0.9162   0.0163\n   0.3944   0.3352   0.6289   0.6357   0.2429\n   0.7831   0.7682   0.3648   0.7173   0.1372\n   0.7984   0.2778   0.5134   0.1416   0.8042\n   0.9116   0.5540   0.9522   0.6070   0.1567\n\n-0.116435\n\n"
      }
     ],
     "prompt_number": 4
    },
    {
     "cell_type": "code",
     "collapsed": false,
     "input": "%%cpp\n#include <iostream>\n#include <armadillo>\nusing namespace std;\nusing namespace arma;\n\nint main() {\n    int *test;\n    *test = 0x0283;\n    cout << *test << endl;\n    return 0;\n}",
     "language": "python",
     "metadata": {},
     "outputs": [
      {
       "output_type": "stream",
       "stream": "stderr",
       "text": "\nERROR: command `./_cpp_magic_b35669dd04a1cfcaca5279ba97c42858.o` failed.\n\nHint: Have you added \"return 0\" to the end of your main function?\n"
      }
     ],
     "prompt_number": 7
    },
    {
     "cell_type": "code",
     "collapsed": false,
     "input": "",
     "language": "python",
     "metadata": {},
     "outputs": []
    }
   ],
   "metadata": {}
  }
 ]
}