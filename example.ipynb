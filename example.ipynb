{
 "metadata": {
  "name": "example"
 },
 "nbformat": 3,
 "nbformat_minor": 0,
 "worksheets": [
  {
   "cells": [
    {
     "cell_type": "code",
     "collapsed": false,
     "input": [
      "%install_ext https://raw.github.com/dragly/cppmagic/master/cppmagic.py"
     ],
     "language": "python",
     "metadata": {},
     "outputs": [
      {
       "output_type": "stream",
       "stream": "stdout",
       "text": [
        "Installed cppmagic.py. To use it, type:\n",
        "  %load_ext cppmagic\n"
       ]
      }
     ],
     "prompt_number": 1
    },
    {
     "cell_type": "code",
     "collapsed": false,
     "input": [
      "%load_ext cppmagic"
     ],
     "language": "python",
     "metadata": {},
     "outputs": [],
     "prompt_number": 2
    },
    {
     "cell_type": "code",
     "collapsed": false,
     "input": [
      "%%cpp\n",
      "#include <iostream>\n",
      "using namespace std;\n",
      "\n",
      "class MyClass {\n",
      "public:\n",
      "    int a;\n",
      "    MyClass() {\n",
      "        a = 10;\n",
      "    }\n",
      "};\n",
      "\n",
      "int main() {\n",
      "    MyClass B;\n",
      "    cout << B.a << endl;\n",
      "    return 0;\n",
      "}"
     ],
     "language": "python",
     "metadata": {},
     "outputs": [
      {
       "output_type": "stream",
       "stream": "stdout",
       "text": [
        "10\n",
        "\n"
       ]
      }
     ],
     "prompt_number": 3
    },
    {
     "cell_type": "code",
     "collapsed": false,
     "input": [
      "%%cpp -llapack -lblas -larmadillo\n",
      "#include <iostream>\n",
      "#include <armadillo>\n",
      "using namespace std;\n",
      "using namespace arma;\n",
      "\n",
      "int main() {\n",
      "    mat A = randu<mat>(5,5);\n",
      "    cout << A << endl;\n",
      "    double determinant = det(A);\n",
      "    cout << determinant << endl;\n",
      "    return 0;\n",
      "}"
     ],
     "language": "python",
     "metadata": {},
     "outputs": [
      {
       "output_type": "stream",
       "stream": "stdout",
       "text": [
        "   0.8402   0.1976   0.4774   0.9162   0.0163\n",
        "   0.3944   0.3352   0.6289   0.6357   0.2429\n",
        "   0.7831   0.7682   0.3648   0.7173   0.1372\n",
        "   0.7984   0.2778   0.5134   0.1416   0.8042\n",
        "   0.9116   0.5540   0.9522   0.6070   0.1567\n",
        "\n",
        "-0.116435\n",
        "\n"
       ]
      }
     ],
     "prompt_number": 4
    },
    {
     "cell_type": "code",
     "collapsed": false,
     "input": [],
     "language": "python",
     "metadata": {},
     "outputs": [],
     "prompt_number": 4
    }
   ],
   "metadata": {}
  }
 ]
}